{
 "cells": [
  {
   "cell_type": "code",
   "execution_count": 1,
   "metadata": {},
   "outputs": [],
   "source": [
    "import numpy as np\n",
    "import matplotlib.pyplot as plt\n",
    "import h5py\n",
    "import multiprocessing\n",
    "from multiprocessing import Pool\n",
    "import os"
   ]
  },
  {
   "cell_type": "code",
   "execution_count": 2,
   "metadata": {},
   "outputs": [
    {
     "name": "stdout",
     "output_type": "stream",
     "text": [
      "(13, 20, 64, 128)\n"
     ]
    }
   ],
   "source": [
    "to = 13\n",
    "savepath = \"graphs/test_only_advection_all\"\n",
    "file = \"/home/Aaron/Isca_advection/IdealizeSpetral.jl/exp/HSt42/outputs/0523/test_only_advection_all.dat\"\n",
    "\n",
    "\n",
    "ds = h5py.File(file, \"r\")\n",
    "\n",
    "u      = np.asarray(ds[\"grid_u_c_xyzt\"])\n",
    "v      = np.asarray(ds[\"grid_v_c_xyzt\"])\n",
    "spe_vor_final_xyz = np.asarray(ds[\"spe_vor_c_xyzt\"])\n",
    "grid_t_c_xyzt = np.asarray(ds[\"grid_t_c_xyzt\"])\n",
    "grid_t_eq_xyzt = np.asarray(ds[\"grid_t_eq_xyzt\"])\n",
    "grid_p_full_xyzt   = np.asarray(ds[\"grid_p_full_xyzt\"])\n",
    "qv      = np.asarray(ds[\"grid_tracers_c_xyz1t\"])\n",
    "grid_t_c_xyzt = np.asarray(ds[\"grid_t_c_xyzt\"])\n",
    "\n",
    "\n",
    "k = 0.5*(v**2+ u**2)\n",
    "print(k.shape)\n",
    "x = np.linspace(-180,180,128)\n",
    "y = np.linspace(-90, 90,64)\n",
    "xx, yy = np.meshgrid(x, y)\n",
    "\n",
    "try:\n",
    "    os.makedirs(f\"{savepath}\")\n",
    "except FileExistsError:\n",
    "    pass\n",
    "\n",
    "def plot_all(t):\n",
    "    fig, ax = plt.subplots(2, 2, figsize=(12, 12))\n",
    "    fig.suptitle(f\"Day {t}\")\n",
    "    cs0 = ax[0, 0].contourf(xx, yy, k[t, 19], levels=np.linspace(0, 800, 11), extend='max')\n",
    "    fig.colorbar(cs0, orientation='horizontal')\n",
    "    ax[0, 0].set_title(f\"Kinetic Energy at surface\")\n",
    "\n",
    "    # cs1 = ax[0, 1].contourf(xx, yy, k[t, 0], levels=np.linspace(0, 800, 11), extend='max')\n",
    "    # fig.colorbar(cs1, orientation='horizontal')\n",
    "    # ax[0, 1].set_title(f\"Kinetic Energy at top\")\n",
    "    # fig.colorbar(cs1, orientation='horizontal')\n",
    "    # ax[0, 1].set_title(f\"Kinetic Energy at top\")\n",
    "\n",
    "    cs1 = ax[0, 1].quiver(xx[::4, ::4], yy[::4, ::4], u[t, 19][::4, ::4], v[t, 19][::4, ::4], scale=500)\n",
    "    ax[0, 1].quiverkey(cs1, 1.05, 1.05, 30, \"30 m/s\")\n",
    "    ax[0, 1].set_title(f\"Wind at surface\")\n",
    "\n",
    "\n",
    "    cs2 = ax[1, 0].contourf(xx, yy, qv[t, 19], levels=np.linspace(-0.4, 1.2, 11), extend='both')\n",
    "    fig.colorbar(cs2, orientation='horizontal')\n",
    "    ax[1, 0].set_title(f\"qv at sfc\")\n",
    "\n",
    "    cs3 = ax[1, 1].contourf(xx, yy, grid_t_c_xyzt[t, 0], levels=np.linspace(250, 320, 11), extend='both')\n",
    "    fig.colorbar(cs3, orientation='horizontal')\n",
    "    ax[1, 1].set_title(f\"T at sfc\")\n",
    "\n",
    "    for i in range(2):\n",
    "        for j in range(2):\n",
    "            ax[i, j].set_xlabel(\"Longitude\")\n",
    "            ax[i, j].set_ylabel(\"Latitude\")\n",
    "\n",
    "    plt.savefig(f\"{savepath}/{t}.png\", dpi=300.)\n",
    "    plt.close()"
   ]
  },
  {
   "cell_type": "code",
   "execution_count": 3,
   "metadata": {},
   "outputs": [
    {
     "name": "stdout",
     "output_type": "stream",
     "text": [
      "ffmpeg version 4.2.2 Copyright (c) 2000-2019 the FFmpeg developers\n",
      "  built with gcc 7.3.0 (crosstool-NG 1.23.0.449-a04d0)\n",
      "  configuration: --prefix=/tmp/build/80754af9/ffmpeg_1587154242452/_h_env_placehold_placehold_placehold_placehold_placehold_placehold_placehold_placehold_placehold_placehold_placehold_placehold_placehold_placehold_placehold_placehold_placehold_placehold_placehold_placehold_placeho --cc=/tmp/build/80754af9/ffmpeg_1587154242452/_build_env/bin/x86_64-conda_cos6-linux-gnu-cc --disable-doc --enable-avresample --enable-gmp --enable-hardcoded-tables --enable-libfreetype --enable-libvpx --enable-pthreads --enable-libopus --enable-postproc --enable-pic --enable-pthreads --enable-shared --enable-static --enable-version3 --enable-zlib --enable-libmp3lame --disable-nonfree --enable-gpl --enable-gnutls --disable-openssl --enable-libopenh264 --enable-libx264\n",
      "  libavutil      56. 31.100 / 56. 31.100\n",
      "  libavcodec     58. 54.100 / 58. 54.100\n",
      "  libavformat    58. 29.100 / 58. 29.100\n",
      "  libavdevice    58.  8.100 / 58.  8.100\n",
      "  libavfilter     7. 57.100 /  7. 57.100\n",
      "  libavresample   4.  0.  0 /  4.  0.  0\n",
      "  libswscale      5.  5.100 /  5.  5.100\n",
      "  libswresample   3.  5.100 /  3.  5.100\n",
      "  libpostproc    55.  5.100 / 55.  5.100\n",
      "Input #0, image2, from '%d.png':\n",
      "  Duration: 00:00:00.52, start: 0.000000, bitrate: N/A\n",
      "    Stream #0:0: Video: png, rgba(pc), 3600x3600 [SAR 11811:11811 DAR 1:1], 25 fps, 25 tbr, 25 tbn, 25 tbc\n",
      "Stream mapping:\n",
      "  Stream #0:0 -> #0:0 (png (native) -> h264 (libx264))\n",
      "Press [q] to stop, [?] for help\n",
      "\u001b[1;36m[libx264 @ 0x55f5b9939d00] \u001b[0musing SAR=1/1\n",
      "\u001b[1;36m[libx264 @ 0x55f5b9939d00] \u001b[0musing cpu capabilities: MMX2 SSE2Fast SSSE3 SSE4.2 AVX FMA3 BMI2 AVX2\n",
      "\u001b[1;36m[libx264 @ 0x55f5b9939d00] \u001b[0mprofile High, level 6.0, 4:2:0, 8-bit\n",
      "\u001b[1;36m[libx264 @ 0x55f5b9939d00] \u001b[0m264 - core 157 - H.264/MPEG-4 AVC codec - Copyleft 2003-2018 - http://www.videolan.org/x264.html - options: cabac=1 ref=3 deblock=1:0:0 analyse=0x3:0x113 me=hex subme=7 psy=1 psy_rd=1.00:0.00 mixed_ref=1 me_range=16 chroma_me=1 trellis=1 8x8dct=1 cqm=0 deadzone=21,11 fast_pskip=1 chroma_qp_offset=-2 threads=112 lookahead_threads=16 sliced_threads=0 nr=0 decimate=1 interlaced=0 bluray_compat=0 constrained_intra=0 bframes=3 b_pyramid=2 b_adapt=1 b_bias=0 direct=1 weightb=1 open_gop=0 weightp=2 keyint=250 keyint_min=5 scenecut=40 intra_refresh=0 rc_lookahead=40 rc=crf mbtree=1 crf=23.0 qcomp=0.60 qpmin=0 qpmax=69 qpstep=4 ip_ratio=1.40 aq=1:1.00\n",
      "Output #0, mov, to '0.mov':\n",
      "  Metadata:\n",
      "    encoder         : Lavf58.29.100\n",
      "    Stream #0:0: Video: h264 (libx264) (avc1 / 0x31637661), yuv420p, 3600x3600 [SAR 1:1 DAR 1:1], q=-1--1, 5 fps, 10240 tbn, 5 tbc\n",
      "    Metadata:\n",
      "      encoder         : Lavc58.54.100 libx264\n",
      "    Side data:\n",
      "      cpb: bitrate max/min/avg: 0/0/0 buffer size: 0 vbv_delay: -1\n",
      "frame=   13 fps= 11 q=-1.0 Lsize=     857kB time=00:00:02.00 bitrate=3509.3kbits/s speed=1.62x    \n",
      "video:856kB audio:0kB subtitle:0kB other streams:0kB global headers:0kB muxing overhead: 0.111480%\n",
      "\u001b[1;36m[libx264 @ 0x55f5b9939d00] \u001b[0mframe I:1     Avg QP:13.50  size:173657\n",
      "\u001b[1;36m[libx264 @ 0x55f5b9939d00] \u001b[0mframe P:3     Avg QP:22.39  size: 65675\n",
      "\u001b[1;36m[libx264 @ 0x55f5b9939d00] \u001b[0mframe B:9     Avg QP:21.50  size: 56114\n",
      "\u001b[1;36m[libx264 @ 0x55f5b9939d00] \u001b[0mconsecutive B-frames:  7.7%  0.0%  0.0% 92.3%\n",
      "\u001b[1;36m[libx264 @ 0x55f5b9939d00] \u001b[0mmb I  I16..4: 36.2% 55.1%  8.7%\n",
      "\u001b[1;36m[libx264 @ 0x55f5b9939d00] \u001b[0mmb P  I16..4:  0.7%  2.8%  2.6%  P16..4:  2.0%  1.0%  0.4%  0.0%  0.0%    skip:90.4%\n",
      "\u001b[1;36m[libx264 @ 0x55f5b9939d00] \u001b[0mmb B  I16..4:  0.3%  0.5%  1.3%  B16..8:  4.6%  1.8%  0.6%  direct: 0.2%  skip:90.7%  L0:50.0% L1:46.6% BI: 3.5%\n",
      "\u001b[1;36m[libx264 @ 0x55f5b9939d00] \u001b[0m8x8 transform intra:49.6% inter:7.3%\n",
      "\u001b[1;36m[libx264 @ 0x55f5b9939d00] \u001b[0mcoded y,uvDC,uvAC intra: 11.8% 8.5% 7.9% inter: 1.2% 0.5% 0.4%\n",
      "\u001b[1;36m[libx264 @ 0x55f5b9939d00] \u001b[0mi16 v,h,dc,p: 84% 14%  2%  0%\n",
      "\u001b[1;36m[libx264 @ 0x55f5b9939d00] \u001b[0mi8 v,h,dc,ddl,ddr,vr,hd,vl,hu: 56%  4% 39%  0%  0%  0%  0%  0%  0%\n",
      "\u001b[1;36m[libx264 @ 0x55f5b9939d00] \u001b[0mi4 v,h,dc,ddl,ddr,vr,hd,vl,hu: 29% 19% 32%  3%  3%  3%  4%  3%  3%\n",
      "\u001b[1;36m[libx264 @ 0x55f5b9939d00] \u001b[0mi8c dc,h,v,p: 90%  6%  3%  1%\n",
      "\u001b[1;36m[libx264 @ 0x55f5b9939d00] \u001b[0mWeighted P-Frames: Y:0.0% UV:0.0%\n",
      "\u001b[1;36m[libx264 @ 0x55f5b9939d00] \u001b[0mref P L0: 67.3%  1.4% 16.2% 15.0%\n",
      "\u001b[1;36m[libx264 @ 0x55f5b9939d00] \u001b[0mref B L0: 79.2% 16.2%  4.7%\n",
      "\u001b[1;36m[libx264 @ 0x55f5b9939d00] \u001b[0mref B L1: 90.9%  9.1%\n",
      "\u001b[1;36m[libx264 @ 0x55f5b9939d00] \u001b[0mkb/s:2694.49\n"
     ]
    }
   ],
   "source": [
    "leap = 1\n",
    "nProc = int(multiprocessing.cpu_count() // 2)\n",
    "with Pool(nProc) as p:\n",
    "    results = [p.apply_async(plot_all, (t, )) for t in range(0, to, leap)]\n",
    "    final = [result.get() for result in results]\n",
    "!cd $savepath && ffmpeg -r 5 -i %d.png -pix_fmt yuv420p 0.mov -y"
   ]
  }
 ],
 "metadata": {
  "kernelspec": {
   "display_name": "GFDL_dycore",
   "language": "python",
   "name": "python3"
  },
  "language_info": {
   "codemirror_mode": {
    "name": "ipython",
    "version": 3
   },
   "file_extension": ".py",
   "mimetype": "text/x-python",
   "name": "python",
   "nbconvert_exporter": "python",
   "pygments_lexer": "ipython3",
   "version": "3.8.16"
  },
  "orig_nbformat": 4
 },
 "nbformat": 4,
 "nbformat_minor": 2
}
